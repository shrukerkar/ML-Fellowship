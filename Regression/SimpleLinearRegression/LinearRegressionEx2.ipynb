{
 "cells": [
  {
   "cell_type": "code",
   "execution_count": 33,
   "metadata": {},
   "outputs": [
    {
     "name": "stdout",
     "output_type": "stream",
     "text": [
      "                  Formatted Date        Summary Precip Type  Temperature (C)  \\\n",
      "0  2006-04-01 00:00:00.000 +0200  Partly Cloudy        rain         9.472222   \n",
      "1  2006-04-01 01:00:00.000 +0200  Partly Cloudy        rain         9.355556   \n",
      "2  2006-04-01 02:00:00.000 +0200  Mostly Cloudy        rain         9.377778   \n",
      "3  2006-04-01 03:00:00.000 +0200  Partly Cloudy        rain         8.288889   \n",
      "4  2006-04-01 04:00:00.000 +0200  Mostly Cloudy        rain         8.755556   \n",
      "\n",
      "   Apparent Temperature (C)  Humidity  Wind Speed (km/h)  \\\n",
      "0                  7.388889      0.89            14.1197   \n",
      "1                  7.227778      0.86            14.2646   \n",
      "2                  9.377778      0.89             3.9284   \n",
      "3                  5.944444      0.83            14.1036   \n",
      "4                  6.977778      0.83            11.0446   \n",
      "\n",
      "   Wind Bearing (degrees)  Visibility (km)  Loud Cover  Pressure (millibars)  \\\n",
      "0                   251.0          15.8263         0.0               1015.13   \n",
      "1                   259.0          15.8263         0.0               1015.63   \n",
      "2                   204.0          14.9569         0.0               1015.94   \n",
      "3                   269.0          15.8263         0.0               1016.41   \n",
      "4                   259.0          15.8263         0.0               1016.51   \n",
      "\n",
      "                       Daily Summary  \n",
      "0  Partly cloudy throughout the day.  \n",
      "1  Partly cloudy throughout the day.  \n",
      "2  Partly cloudy throughout the day.  \n",
      "3  Partly cloudy throughout the day.  \n",
      "4  Partly cloudy throughout the day.  \n",
      "                       Formatted Date        Summary Precip Type  \\\n",
      "count                           96453          96453       95936   \n",
      "unique                          96429             27           2   \n",
      "top     2010-08-02 21:00:00.000 +0200  Partly Cloudy        rain   \n",
      "freq                                2          31733       85224   \n",
      "\n",
      "                            Daily Summary  \n",
      "count                               96453  \n",
      "unique                                214  \n",
      "top     Mostly cloudy throughout the day.  \n",
      "freq                                20085  \n",
      "                          Temperature (C)  Apparent Temperature (C)  Humidity  \\\n",
      "Temperature (C)                  1.000000                  0.992629 -0.632255   \n",
      "Apparent Temperature (C)         0.992629                  1.000000 -0.602571   \n",
      "Humidity                        -0.632255                 -0.602571  1.000000   \n",
      "Wind Speed (km/h)                0.008957                 -0.056650 -0.224951   \n",
      "Wind Bearing (degrees)           0.029988                  0.029031  0.000735   \n",
      "Visibility (km)                  0.392847                  0.381718 -0.369173   \n",
      "Loud Cover                            NaN                       NaN       NaN   \n",
      "Pressure (millibars)            -0.005447                 -0.000219  0.005454   \n",
      "\n",
      "                          Wind Speed (km/h)  Wind Bearing (degrees)  \\\n",
      "Temperature (C)                    0.008957                0.029988   \n",
      "Apparent Temperature (C)          -0.056650                0.029031   \n",
      "Humidity                          -0.224951                0.000735   \n",
      "Wind Speed (km/h)                  1.000000                0.103822   \n",
      "Wind Bearing (degrees)             0.103822                1.000000   \n",
      "Visibility (km)                    0.100749                0.047594   \n",
      "Loud Cover                              NaN                     NaN   \n",
      "Pressure (millibars)              -0.049263               -0.011651   \n",
      "\n",
      "                          Visibility (km)  Loud Cover  Pressure (millibars)  \n",
      "Temperature (C)                  0.392847         NaN             -0.005447  \n",
      "Apparent Temperature (C)         0.381718         NaN             -0.000219  \n",
      "Humidity                        -0.369173         NaN              0.005454  \n",
      "Wind Speed (km/h)                0.100749         NaN             -0.049263  \n",
      "Wind Bearing (degrees)           0.047594         NaN             -0.011651  \n",
      "Visibility (km)                  1.000000         NaN              0.059818  \n",
      "Loud Cover                            NaN         NaN                   NaN  \n",
      "Pressure (millibars)             0.059818         NaN              1.000000  \n",
      "                          Temperature (C)  Apparent Temperature (C)  Humidity  \\\n",
      "Temperature (C)                  1.000000                  0.992629 -0.632255   \n",
      "Apparent Temperature (C)         0.992629                  1.000000 -0.602571   \n",
      "Humidity                        -0.632255                 -0.602571  1.000000   \n",
      "Visibility (km)                  0.392847                  0.381718 -0.369173   \n",
      "\n",
      "                          Visibility (km)  \n",
      "Temperature (C)                  0.392847  \n",
      "Apparent Temperature (C)         0.381718  \n",
      "Humidity                        -0.369173  \n",
      "Visibility (km)                  1.000000  \n"
     ]
    },
    {
     "data": {
      "text/plain": [
       "<matplotlib.axes._subplots.AxesSubplot at 0x7fca80cfd2e8>"
      ]
     },
     "execution_count": 33,
     "metadata": {},
     "output_type": "execute_result"
    },
    {
     "data": {
      "image/png": "[encoded data removed]",
      "text/plain": [
       "<Figure size 432x288 with 1 Axes>"
      ]
     },
     "metadata": {},
     "output_type": "display_data"
    }
   ],
   "source": [
    "import pandas as pd\n",
    "import numpy as np\n",
    "import matplotlib.pyplot as plt\n",
    "import seaborn as sns\n",
    "from sklearn.cross_validation import train_test_split\n",
    "\n",
    "df=pd.read_csv(\"/home/shruti/Downloads/weatherHistory.csv\")\n",
    "print(df.head())\n",
    "\n",
    "print(df.describe(include=['O']))\n",
    "\n",
    "print(df.corr())\n",
    "\n",
    "data_set=df.iloc[:,[0,3,4,5,8]]\n",
    "print(data_set.corr())\n",
    "\n",
    "sns.regplot(x=data_set[\"Humidity\"],y=data_set[\"Apparent Temperature (C)\"])\n"
   ]
  },
  {
   "cell_type": "code",
   "execution_count": 4,
   "metadata": {},
   "outputs": [
    {
     "data": {
      "text/plain": [
       "<matplotlib.axes._subplots.AxesSubplot at 0x7fca827ae3c8>"
      ]
     },
     "execution_count": 4,
     "metadata": {},
     "output_type": "execute_result"
    },
    {
     "data": {
      "image/png": "[encoded data removed]",
      "text/plain": [
       "<Figure size 432x288 with 1 Axes>"
      ]
     },
     "metadata": {},
     "output_type": "display_data"
    }
   ],
   "source": [
    "#sns.regplot(x=data_set[\"Temperature (C)\"], y=data_set[\"Apparent Temperature (C)\"])\n"
   ]
  },
  {
   "cell_type": "code",
   "execution_count": 21,
   "metadata": {},
   "outputs": [
    {
     "name": "stdout",
     "output_type": "stream",
     "text": [
      "[-21.71666666666667, -21.255555555555556, -21.555555555555557, -21.75, -21.922222222222228, -21.399999999999995, -22.09444444444444, -21.777777777777782, -21.97777777777777, -23.7, -23.7, -22.738888888888887, -23.13888888888889, -23.86666666666667, -23.266666666666666, -24.23333333333333, -21.81111111111111, -21.411111111111108, -26.22777777777777, -21.822222222222226, -23.716666666666665, -24.63888888888889, -27.716666666666665, -24.16666666666667, -25.922222222222217, -23.7, -21.66111111111111, -23.027777777777782, -21.9, -22.738888888888887, -22.41666666666667, -23.616666666666664, -23.87222222222222, -24.36666666666667, -21.48333333333333, -22.96666666666667, -22.072222222222226, -25.200000000000006, -25.072222222222226, -21.66111111111111]\n"
     ]
    }
   ],
   "source": [
    "outliers=[]\n",
    "def dect_outliers(data_1):\n",
    "    limit=3\n",
    "    mean=np.mean(data_1)\n",
    "    std=np.std(data_1)\n",
    "    for y in data_1:\n",
    "        z_score=(y-mean)/std\n",
    "        if np.abs(z_score)>= limit:\n",
    "            outliers.append(y)\n",
    "    return outliers\n",
    "outlier_data=dect_outliers(data_set[\"Apparent Temperature (C)\"])\n",
    "print(outlier_data)"
   ]
  },
  {
   "cell_type": "code",
   "execution_count": 22,
   "metadata": {},
   "outputs": [
    {
     "name": "stdout",
     "output_type": "stream",
     "text": [
      "                      Formatted Date  Temperature (C)  \\\n",
      "0      2006-04-01 00:00:00.000 +0200         9.472222   \n",
      "1      2006-04-01 01:00:00.000 +0200         9.355556   \n",
      "2      2006-04-01 02:00:00.000 +0200         9.377778   \n",
      "3      2006-04-01 03:00:00.000 +0200         8.288889   \n",
      "4      2006-04-01 04:00:00.000 +0200         8.755556   \n",
      "5      2006-04-01 05:00:00.000 +0200         9.222222   \n",
      "6      2006-04-01 06:00:00.000 +0200         7.733333   \n",
      "7      2006-04-01 07:00:00.000 +0200         8.772222   \n",
      "8      2006-04-01 08:00:00.000 +0200        10.822222   \n",
      "9      2006-04-01 09:00:00.000 +0200        13.772222   \n",
      "10     2006-04-01 10:00:00.000 +0200        16.016667   \n",
      "11     2006-04-01 11:00:00.000 +0200        17.144444   \n",
      "12     2006-04-01 12:00:00.000 +0200        17.800000   \n",
      "13     2006-04-01 13:00:00.000 +0200        17.333333   \n",
      "14     2006-04-01 14:00:00.000 +0200        18.877778   \n",
      "15     2006-04-01 15:00:00.000 +0200        18.911111   \n",
      "16     2006-04-01 16:00:00.000 +0200        15.388889   \n",
      "17     2006-04-01 17:00:00.000 +0200        15.550000   \n",
      "18     2006-04-01 18:00:00.000 +0200        14.255556   \n",
      "19     2006-04-01 19:00:00.000 +0200        13.144444   \n",
      "20     2006-04-01 20:00:00.000 +0200        11.550000   \n",
      "21     2006-04-01 21:00:00.000 +0200        11.183333   \n",
      "22     2006-04-01 22:00:00.000 +0200        10.116667   \n",
      "23     2006-04-01 23:00:00.000 +0200        10.200000   \n",
      "24     2006-04-10 00:00:00.000 +0200        10.422222   \n",
      "25     2006-04-10 01:00:00.000 +0200         9.911111   \n",
      "26     2006-04-10 02:00:00.000 +0200        11.183333   \n",
      "27     2006-04-10 03:00:00.000 +0200         7.155556   \n",
      "28     2006-04-10 04:00:00.000 +0200         6.111111   \n",
      "29     2006-04-10 05:00:00.000 +0200         6.788889   \n",
      "...                              ...              ...   \n",
      "96423  2016-09-08 18:00:00.000 +0200        27.800000   \n",
      "96424  2016-09-08 19:00:00.000 +0200        24.905556   \n",
      "96425  2016-09-08 20:00:00.000 +0200        22.366667   \n",
      "96426  2016-09-08 21:00:00.000 +0200        21.016667   \n",
      "96427  2016-09-08 22:00:00.000 +0200        19.927778   \n",
      "96428  2016-09-08 23:00:00.000 +0200        18.350000   \n",
      "96429  2016-09-09 00:00:00.000 +0200        17.755556   \n",
      "96430  2016-09-09 01:00:00.000 +0200        16.622222   \n",
      "96431  2016-09-09 02:00:00.000 +0200        16.144444   \n",
      "96432  2016-09-09 03:00:00.000 +0200        15.594444   \n",
      "96433  2016-09-09 04:00:00.000 +0200        15.011111   \n",
      "96434  2016-09-09 05:00:00.000 +0200        15.016667   \n",
      "96435  2016-09-09 06:00:00.000 +0200        13.872222   \n",
      "96436  2016-09-09 07:00:00.000 +0200        16.072222   \n",
      "96437  2016-09-09 08:00:00.000 +0200        19.561111   \n",
      "96438  2016-09-09 09:00:00.000 +0200        22.138889   \n",
      "96439  2016-09-09 10:00:00.000 +0200        22.872222   \n",
      "96440  2016-09-09 11:00:00.000 +0200        27.072222   \n",
      "96441  2016-09-09 12:00:00.000 +0200        28.866667   \n",
      "96442  2016-09-09 13:00:00.000 +0200        30.994444   \n",
      "96443  2016-09-09 14:00:00.000 +0200        30.894444   \n",
      "96444  2016-09-09 15:00:00.000 +0200        31.083333   \n",
      "96445  2016-09-09 16:00:00.000 +0200        31.083333   \n",
      "96446  2016-09-09 17:00:00.000 +0200        30.766667   \n",
      "96447  2016-09-09 18:00:00.000 +0200        28.838889   \n",
      "96448  2016-09-09 19:00:00.000 +0200        26.016667   \n",
      "96449  2016-09-09 20:00:00.000 +0200        24.583333   \n",
      "96450  2016-09-09 21:00:00.000 +0200        22.038889   \n",
      "96451  2016-09-09 22:00:00.000 +0200        21.522222   \n",
      "96452  2016-09-09 23:00:00.000 +0200        20.438889   \n",
      "\n",
      "       Apparent Temperature (C)  Humidity  Visibility (km)  \n",
      "0                      7.388889      0.89          15.8263  \n",
      "1                      7.227778      0.86          15.8263  \n",
      "2                      9.377778      0.89          14.9569  \n",
      "3                      5.944444      0.83          15.8263  \n",
      "4                      6.977778      0.83          15.8263  \n",
      "5                      7.111111      0.85          14.9569  \n",
      "6                      5.522222      0.95           9.9820  \n",
      "7                      6.527778      0.89           9.9820  \n",
      "8                     10.822222      0.82           9.9820  \n",
      "9                     13.772222      0.72           9.9820  \n",
      "10                    16.016667      0.67          11.2056  \n",
      "11                    17.144444      0.54          11.4471  \n",
      "12                    17.800000      0.55          11.2700  \n",
      "13                    17.333333      0.51          11.2700  \n",
      "14                    18.877778      0.47          11.4471  \n",
      "15                    18.911111      0.46          11.2700  \n",
      "16                    15.388889      0.60          11.2700  \n",
      "17                    15.550000      0.63          11.4471  \n",
      "18                    14.255556      0.69          11.2056  \n",
      "19                    13.144444      0.70          11.2056  \n",
      "20                    11.550000      0.77          11.0285  \n",
      "21                    11.183333      0.76           9.9820  \n",
      "22                    10.116667      0.79          15.8263  \n",
      "23                    10.200000      0.77          14.9569  \n",
      "24                    10.422222      0.62          15.8263  \n",
      "25                     7.566667      0.66          15.8263  \n",
      "26                    11.183333      0.80          14.9569  \n",
      "27                     5.044444      0.79          15.8263  \n",
      "28                     4.816667      0.82          15.8263  \n",
      "29                     4.272222      0.83          14.9569  \n",
      "...                         ...       ...              ...  \n",
      "96423                 27.050000      0.32          16.1000  \n",
      "96424                 24.905556      0.51          16.1000  \n",
      "96425                 22.366667      0.58          15.5526  \n",
      "96426                 21.016667      0.64          16.1000  \n",
      "96427                 19.927778      0.71          16.1000  \n",
      "96428                 18.350000      0.77          15.5526  \n",
      "96429                 17.755556      0.81          16.1000  \n",
      "96430                 16.622222      0.87          16.1000  \n",
      "96431                 16.144444      0.87          15.1501  \n",
      "96432                 15.594444      0.87          15.4399  \n",
      "96433                 15.011111      0.93          15.8263  \n",
      "96434                 15.016667      0.90          14.9569  \n",
      "96435                 13.872222      0.93          15.8263  \n",
      "96436                 16.072222      0.88          15.7297  \n",
      "96437                 19.561111      0.75          14.9569  \n",
      "96438                 22.138889      0.65          16.1000  \n",
      "96439                 22.872222      0.59          16.1000  \n",
      "96440                 27.022222      0.42          15.5526  \n",
      "96441                 28.216667      0.37          16.1000  \n",
      "96442                 29.972222      0.33          16.1000  \n",
      "96443                 29.450000      0.28          15.5526  \n",
      "96444                 29.616667      0.28          16.1000  \n",
      "96445                 29.611111      0.28          16.1000  \n",
      "96446                 29.311111      0.28          15.5526  \n",
      "96447                 27.850000      0.32          16.1000  \n",
      "96448                 26.016667      0.43          16.1000  \n",
      "96449                 24.583333      0.48          15.5526  \n",
      "96450                 22.038889      0.56          16.1000  \n",
      "96451                 21.522222      0.60          16.1000  \n",
      "96452                 20.438889      0.61          15.5204  \n",
      "\n",
      "[77977 rows x 5 columns]\n"
     ]
    }
   ],
   "source": [
    "final_data_set=data_set[data_set[\"Apparent Temperature (C)\"]>0.15]\n",
    "print(final_data_set)"
   ]
  },
  {
   "cell_type": "code",
   "execution_count": 23,
   "metadata": {},
   "outputs": [
    {
     "data": {
      "text/plain": [
       "<matplotlib.axes._subplots.AxesSubplot at 0x7fca8656af98>"
      ]
     },
     "execution_count": 23,
     "metadata": {},
     "output_type": "execute_result"
    },
    {
     "data": {
      "image/png": "[encoded data removed]",
      "text/plain": [
       "<Figure size 432x288 with 1 Axes>"
      ]
     },
     "metadata": {},
     "output_type": "display_data"
    }
   ],
   "source": [
    "sns.regplot(x=final_data_set[\"Humidity\"],y=final_data_set[\"Apparent Temperature (C)\"])"
   ]
  },
  {
   "cell_type": "code",
   "execution_count": 26,
   "metadata": {},
   "outputs": [
    {
     "name": "stdout",
     "output_type": "stream",
     "text": [
      "       Humidity\n",
      "0          0.89\n",
      "1          0.86\n",
      "2          0.89\n",
      "3          0.83\n",
      "4          0.83\n",
      "5          0.85\n",
      "6          0.95\n",
      "7          0.89\n",
      "8          0.82\n",
      "9          0.72\n",
      "10         0.67\n",
      "11         0.54\n",
      "12         0.55\n",
      "13         0.51\n",
      "14         0.47\n",
      "15         0.46\n",
      "16         0.60\n",
      "17         0.63\n",
      "18         0.69\n",
      "19         0.70\n",
      "20         0.77\n",
      "21         0.76\n",
      "22         0.79\n",
      "23         0.77\n",
      "24         0.62\n",
      "25         0.66\n",
      "26         0.80\n",
      "27         0.79\n",
      "28         0.82\n",
      "29         0.83\n",
      "...         ...\n",
      "96423      0.32\n",
      "96424      0.51\n",
      "96425      0.58\n",
      "96426      0.64\n",
      "96427      0.71\n",
      "96428      0.77\n",
      "96429      0.81\n",
      "96430      0.87\n",
      "96431      0.87\n",
      "96432      0.87\n",
      "96433      0.93\n",
      "96434      0.90\n",
      "96435      0.93\n",
      "96436      0.88\n",
      "96437      0.75\n",
      "96438      0.65\n",
      "96439      0.59\n",
      "96440      0.42\n",
      "96441      0.37\n",
      "96442      0.33\n",
      "96443      0.28\n",
      "96444      0.28\n",
      "96445      0.28\n",
      "96446      0.28\n",
      "96447      0.32\n",
      "96448      0.43\n",
      "96449      0.48\n",
      "96450      0.56\n",
      "96451      0.60\n",
      "96452      0.61\n",
      "\n",
      "[77977 rows x 1 columns]\n",
      "       Apparent Temperature (C)\n",
      "0                      7.388889\n",
      "1                      7.227778\n",
      "2                      9.377778\n",
      "3                      5.944444\n",
      "4                      6.977778\n",
      "5                      7.111111\n",
      "6                      5.522222\n",
      "7                      6.527778\n",
      "8                     10.822222\n",
      "9                     13.772222\n",
      "10                    16.016667\n",
      "11                    17.144444\n",
      "12                    17.800000\n",
      "13                    17.333333\n",
      "14                    18.877778\n",
      "15                    18.911111\n",
      "16                    15.388889\n",
      "17                    15.550000\n",
      "18                    14.255556\n",
      "19                    13.144444\n",
      "20                    11.550000\n",
      "21                    11.183333\n",
      "22                    10.116667\n",
      "23                    10.200000\n",
      "24                    10.422222\n",
      "25                     7.566667\n",
      "26                    11.183333\n",
      "27                     5.044444\n",
      "28                     4.816667\n",
      "29                     4.272222\n",
      "...                         ...\n",
      "96423                 27.050000\n",
      "96424                 24.905556\n",
      "96425                 22.366667\n",
      "96426                 21.016667\n",
      "96427                 19.927778\n",
      "96428                 18.350000\n",
      "96429                 17.755556\n",
      "96430                 16.622222\n",
      "96431                 16.144444\n",
      "96432                 15.594444\n",
      "96433                 15.011111\n",
      "96434                 15.016667\n",
      "96435                 13.872222\n",
      "96436                 16.072222\n",
      "96437                 19.561111\n",
      "96438                 22.138889\n",
      "96439                 22.872222\n",
      "96440                 27.022222\n",
      "96441                 28.216667\n",
      "96442                 29.972222\n",
      "96443                 29.450000\n",
      "96444                 29.616667\n",
      "96445                 29.611111\n",
      "96446                 29.311111\n",
      "96447                 27.850000\n",
      "96448                 26.016667\n",
      "96449                 24.583333\n",
      "96450                 22.038889\n",
      "96451                 21.522222\n",
      "96452                 20.438889\n",
      "\n",
      "[77977 rows x 1 columns]\n"
     ]
    }
   ],
   "source": [
    "y=final_data_set.iloc[:,[3]]\n",
    "print(y)\n",
    "X=final_data_set.iloc[:,[2]]\n",
    "print(X)"
   ]
  },
  {
   "cell_type": "code",
   "execution_count": 34,
   "metadata": {},
   "outputs": [
    {
     "name": "stdout",
     "output_type": "stream",
     "text": [
      "(62381, 1)\n",
      "(15596, 1)\n",
      "(62381, 1)\n",
      "(15596, 1)\n"
     ]
    }
   ],
   "source": [
    "X_train,X_test,y_train,y_test=train_test_split(X,y,test_size=0.20,random_state=0)\n",
    "print(X_train.shape)\n",
    "print(X_test.shape)\n",
    "print(y_train.shape)\n",
    "print(y_test.shape)"
   ]
  },
  {
   "cell_type": "code",
   "execution_count": 35,
   "metadata": {},
   "outputs": [
    {
     "data": {
      "text/plain": [
       "LinearRegression(copy_X=True, fit_intercept=True, n_jobs=1, normalize=False)"
      ]
     },
     "execution_count": 35,
     "metadata": {},
     "output_type": "execute_result"
    }
   ],
   "source": [
    "from sklearn.linear_model import LinearRegression\n",
    "regressor =LinearRegression()\n",
    "regressor.fit(X_train, y_train)"
   ]
  },
  {
   "cell_type": "code",
   "execution_count": 36,
   "metadata": {},
   "outputs": [
    {
     "data": {
      "text/plain": [
       "array([[-0.01498419]])"
      ]
     },
     "execution_count": 36,
     "metadata": {},
     "output_type": "execute_result"
    }
   ],
   "source": [
    "regressor.coef_\n"
   ]
  },
  {
   "cell_type": "code",
   "execution_count": 37,
   "metadata": {},
   "outputs": [
    {
     "data": {
      "text/plain": [
       "array([0.9244098])"
      ]
     },
     "execution_count": 37,
     "metadata": {},
     "output_type": "execute_result"
    }
   ],
   "source": [
    "regressor.intercept_"
   ]
  },
  {
   "cell_type": "code",
   "execution_count": 39,
   "metadata": {},
   "outputs": [
    {
     "name": "stdout",
     "output_type": "stream",
     "text": [
      "[[0.85639823]\n",
      " [0.49469655]\n",
      " [0.71704527]\n",
      " ...\n",
      " [0.81577442]\n",
      " [0.82001994]\n",
      " [0.65860693]]\n"
     ]
    }
   ],
   "source": [
    "y_pred = regressor.predict(X_test)\n",
    "print(y_pred)"
   ]
  },
  {
   "cell_type": "code",
   "execution_count": 43,
   "metadata": {},
   "outputs": [
    {
     "data": {
      "text/plain": [
       "0.39064273961626883"
      ]
     },
     "execution_count": 43,
     "metadata": {},
     "output_type": "execute_result"
    }
   ],
   "source": [
    "regressor.score(X,y)\n"
   ]
  },
  {
   "cell_type": "code",
   "execution_count": 42,
   "metadata": {},
   "outputs": [
    {
     "name": "stdout",
     "output_type": "stream",
     "text": [
      "0.15680955684405626\n"
     ]
    }
   ],
   "source": [
    "from sklearn import metrics\n",
    "import math\n",
    "print(math.sqrt(metrics.mean_squared_error(y_test, y_pred)))"
   ]
  },
  {
   "cell_type": "code",
   "execution_count": 44,
   "metadata": {},
   "outputs": [
    {
     "name": "stderr",
     "output_type": "stream",
     "text": [
      "/home/shruti/anaconda3/lib/python3.6/site-packages/ipykernel_launcher.py:3: SettingWithCopyWarning: \n",
      "A value is trying to be set on a copy of a slice from a DataFrame.\n",
      "Try using .loc[row_indexer,col_indexer] = value instead\n",
      "\n",
      "See the caveats in the documentation: http://pandas.pydata.org/pandas-docs/stable/indexing.html#indexing-view-versus-copy\n",
      "  This is separate from the ipykernel package so we can avoid doing imports until\n"
     ]
    }
   ],
   "source": [
    "import statsmodels.api as sm\n",
    "ones_1 =[1] * X.count()\n",
    "X[\"b0\"]=ones_1"
   ]
  },
  {
   "cell_type": "code",
   "execution_count": 46,
   "metadata": {},
   "outputs": [
    {
     "data": {
      "text/html": [
       "<table class=\"simpletable\">\n",
       "<caption>OLS Regression Results</caption>\n",
       "<tr>\n",
       "  <th>Dep. Variable:</th>            <td>y</td>        <th>  R-squared:         </th> <td>   0.587</td> \n",
       "</tr>\n",
       "<tr>\n",
       "  <th>Model:</th>                   <td>OLS</td>       <th>  Adj. R-squared:    </th> <td>   0.587</td> \n",
       "</tr>\n",
       "<tr>\n",
       "  <th>Method:</th>             <td>Least Squares</td>  <th>  F-statistic:       </th> <td>2.218e+04</td>\n",
       "</tr>\n",
       "<tr>\n",
       "  <th>Date:</th>             <td>Tue, 13 Nov 2018</td> <th>  Prob (F-statistic):</th>  <td>  0.00</td>  \n",
       "</tr>\n",
       "<tr>\n",
       "  <th>Time:</th>                 <td>12:59:15</td>     <th>  Log-Likelihood:    </th> <td> -10101.</td> \n",
       "</tr>\n",
       "<tr>\n",
       "  <th>No. Observations:</th>      <td> 15596</td>      <th>  AIC:               </th> <td>2.020e+04</td>\n",
       "</tr>\n",
       "<tr>\n",
       "  <th>Df Residuals:</th>          <td> 15595</td>      <th>  BIC:               </th> <td>2.021e+04</td>\n",
       "</tr>\n",
       "<tr>\n",
       "  <th>Df Model:</th>              <td>     1</td>      <th>                     </th>     <td> </td>    \n",
       "</tr>\n",
       "<tr>\n",
       "  <th>Covariance Type:</th>      <td>nonrobust</td>    <th>                     </th>     <td> </td>    \n",
       "</tr>\n",
       "</table>\n",
       "<table class=\"simpletable\">\n",
       "<tr>\n",
       "              <td></td>                <th>coef</th>     <th>std err</th>      <th>t</th>      <th>P>|t|</th>  <th>[0.025</th>    <th>0.975]</th>  \n",
       "</tr>\n",
       "<tr>\n",
       "  <th>Apparent Temperature (C)</th> <td>    0.0332</td> <td>    0.000</td> <td>  148.931</td> <td> 0.000</td> <td>    0.033</td> <td>    0.034</td>\n",
       "</tr>\n",
       "</table>\n",
       "<table class=\"simpletable\">\n",
       "<tr>\n",
       "  <th>Omnibus:</th>       <td>1152.745</td> <th>  Durbin-Watson:     </th> <td>   1.500</td> \n",
       "</tr>\n",
       "<tr>\n",
       "  <th>Prob(Omnibus):</th>  <td> 0.000</td>  <th>  Jarque-Bera (JB):  </th> <td> 470.775</td> \n",
       "</tr>\n",
       "<tr>\n",
       "  <th>Skew:</th>           <td>-0.200</td>  <th>  Prob(JB):          </th> <td>5.92e-103</td>\n",
       "</tr>\n",
       "<tr>\n",
       "  <th>Kurtosis:</th>       <td> 2.249</td>  <th>  Cond. No.          </th> <td>    1.00</td> \n",
       "</tr>\n",
       "</table><br/><br/>Warnings:<br/>[1] Standard Errors assume that the covariance matrix of the errors is correctly specified."
      ],
      "text/plain": [
       "<class 'statsmodels.iolib.summary.Summary'>\n",
       "\"\"\"\n",
       "                            OLS Regression Results                            \n",
       "==============================================================================\n",
       "Dep. Variable:                      y   R-squared:                       0.587\n",
       "Model:                            OLS   Adj. R-squared:                  0.587\n",
       "Method:                 Least Squares   F-statistic:                 2.218e+04\n",
       "Date:                Tue, 13 Nov 2018   Prob (F-statistic):               0.00\n",
       "Time:                        12:59:15   Log-Likelihood:                -10101.\n",
       "No. Observations:               15596   AIC:                         2.020e+04\n",
       "Df Residuals:                   15595   BIC:                         2.021e+04\n",
       "Df Model:                           1                                         \n",
       "Covariance Type:            nonrobust                                         \n",
       "============================================================================================\n",
       "                               coef    std err          t      P>|t|      [0.025      0.975]\n",
       "--------------------------------------------------------------------------------------------\n",
       "Apparent Temperature (C)     0.0332      0.000    148.931      0.000       0.033       0.034\n",
       "==============================================================================\n",
       "Omnibus:                     1152.745   Durbin-Watson:                   1.500\n",
       "Prob(Omnibus):                  0.000   Jarque-Bera (JB):              470.775\n",
       "Skew:                          -0.200   Prob(JB):                    5.92e-103\n",
       "Kurtosis:                       2.249   Cond. No.                         1.00\n",
       "==============================================================================\n",
       "\n",
       "Warnings:\n",
       "[1] Standard Errors assume that the covariance matrix of the errors is correctly specified.\n",
       "\"\"\""
      ]
     },
     "execution_count": 46,
     "metadata": {},
     "output_type": "execute_result"
    }
   ],
   "source": [
    "model = sm.OLS(y_pred,X_test).fit()\n",
    "model.summary()"
   ]
  },
  {
   "cell_type": "code",
   "execution_count": null,
   "metadata": {},
   "outputs": [],
   "source": []
  }
 ],
 "metadata": {
  "kernelspec": {
   "display_name": "Python 3",
   "language": "python",
   "name": "python3"
  },
  "language_info": {
   "codemirror_mode": {
    "name": "ipython",
    "version": 3
   },
   "file_extension": ".py",
   "mimetype": "text/x-python",
   "name": "python",
   "nbconvert_exporter": "python",
   "pygments_lexer": "ipython3",
   "version": "3.6.5"
  }
 },
 "nbformat": 4,
 "nbformat_minor": 2
}
