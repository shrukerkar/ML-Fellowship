{
 "cells": [
  {
   "cell_type": "code",
   "execution_count": 120,
   "metadata": {},
   "outputs": [
    {
     "name": "stdout",
     "output_type": "stream",
     "text": [
      "                  Formatted Date        Summary Precip Type  Temperature (C)  \\\n",
      "0  2006-04-01 00:00:00.000 +0200  Partly Cloudy        rain         9.472222   \n",
      "1  2006-04-01 01:00:00.000 +0200  Partly Cloudy        rain         9.355556   \n",
      "2  2006-04-01 02:00:00.000 +0200  Mostly Cloudy        rain         9.377778   \n",
      "3  2006-04-01 03:00:00.000 +0200  Partly Cloudy        rain         8.288889   \n",
      "4  2006-04-01 04:00:00.000 +0200  Mostly Cloudy        rain         8.755556   \n",
      "\n",
      "   Apparent Temperature (C)  Humidity  Wind Speed (km/h)  \\\n",
      "0                  7.388889      0.89            14.1197   \n",
      "1                  7.227778      0.86            14.2646   \n",
      "2                  9.377778      0.89             3.9284   \n",
      "3                  5.944444      0.83            14.1036   \n",
      "4                  6.977778      0.83            11.0446   \n",
      "\n",
      "   Wind Bearing (degrees)  Visibility (km)  Loud Cover  Pressure (millibars)  \\\n",
      "0                   251.0          15.8263         0.0               1015.13   \n",
      "1                   259.0          15.8263         0.0               1015.63   \n",
      "2                   204.0          14.9569         0.0               1015.94   \n",
      "3                   269.0          15.8263         0.0               1016.41   \n",
      "4                   259.0          15.8263         0.0               1016.51   \n",
      "\n",
      "                       Daily Summary  \n",
      "0  Partly cloudy throughout the day.  \n",
      "1  Partly cloudy throughout the day.  \n",
      "2  Partly cloudy throughout the day.  \n",
      "3  Partly cloudy throughout the day.  \n",
      "4  Partly cloudy throughout the day.  \n",
      "                       Formatted Date        Summary Precip Type  \\\n",
      "count                           96453          96453       95936   \n",
      "unique                          96429             27           2   \n",
      "top     2010-08-02 21:00:00.000 +0200  Partly Cloudy        rain   \n",
      "freq                                2          31733       85224   \n",
      "\n",
      "                            Daily Summary  \n",
      "count                               96453  \n",
      "unique                                214  \n",
      "top     Mostly cloudy throughout the day.  \n",
      "freq                                20085  \n",
      "                          Temperature (C)  Apparent Temperature (C)  Humidity  \\\n",
      "Temperature (C)                  1.000000                  0.992629 -0.632255   \n",
      "Apparent Temperature (C)         0.992629                  1.000000 -0.602571   \n",
      "Humidity                        -0.632255                 -0.602571  1.000000   \n",
      "Wind Speed (km/h)                0.008957                 -0.056650 -0.224951   \n",
      "Wind Bearing (degrees)           0.029988                  0.029031  0.000735   \n",
      "Visibility (km)                  0.392847                  0.381718 -0.369173   \n",
      "Loud Cover                            NaN                       NaN       NaN   \n",
      "Pressure (millibars)            -0.005447                 -0.000219  0.005454   \n",
      "\n",
      "                          Wind Speed (km/h)  Wind Bearing (degrees)  \\\n",
      "Temperature (C)                    0.008957                0.029988   \n",
      "Apparent Temperature (C)          -0.056650                0.029031   \n",
      "Humidity                          -0.224951                0.000735   \n",
      "Wind Speed (km/h)                  1.000000                0.103822   \n",
      "Wind Bearing (degrees)             0.103822                1.000000   \n",
      "Visibility (km)                    0.100749                0.047594   \n",
      "Loud Cover                              NaN                     NaN   \n",
      "Pressure (millibars)              -0.049263               -0.011651   \n",
      "\n",
      "                          Visibility (km)  Loud Cover  Pressure (millibars)  \n",
      "Temperature (C)                  0.392847         NaN             -0.005447  \n",
      "Apparent Temperature (C)         0.381718         NaN             -0.000219  \n",
      "Humidity                        -0.369173         NaN              0.005454  \n",
      "Wind Speed (km/h)                0.100749         NaN             -0.049263  \n",
      "Wind Bearing (degrees)           0.047594         NaN             -0.011651  \n",
      "Visibility (km)                  1.000000         NaN              0.059818  \n",
      "Loud Cover                            NaN         NaN                   NaN  \n",
      "Pressure (millibars)             0.059818         NaN              1.000000  \n",
      "                          Temperature (C)  Apparent Temperature (C)  Humidity  \\\n",
      "Temperature (C)                  1.000000                  0.992629 -0.632255   \n",
      "Apparent Temperature (C)         0.992629                  1.000000 -0.602571   \n",
      "Humidity                        -0.632255                 -0.602571  1.000000   \n",
      "Visibility (km)                  0.392847                  0.381718 -0.369173   \n",
      "\n",
      "                          Visibility (km)  \n",
      "Temperature (C)                  0.392847  \n",
      "Apparent Temperature (C)         0.381718  \n",
      "Humidity                        -0.369173  \n",
      "Visibility (km)                  1.000000  \n"
     ]
    },
    {
     "data": {
      "text/plain": [
       "<matplotlib.axes._subplots.AxesSubplot at 0x7fca80571be0>"
      ]
     },
     "execution_count": 120,
     "metadata": {},
     "output_type": "execute_result"
    },
    {
     "data": {
      "image/png": "[encoded data removed]",
      "text/plain": [
       "<Figure size 432x288 with 1 Axes>"
      ]
     },
     "metadata": {},
     "output_type": "display_data"
    }
   ],
   "source": [
    "import pandas as pd\n",
    "import numpy as np\n",
    "import matplotlib.pyplot as plt\n",
    "import seaborn as sns\n",
    "from sklearn.cross_validation import train_test_split\n",
    "\n",
    "df=pd.read_csv(\"/home/shruti/Downloads/weatherHistory.csv\")\n",
    "print(df.head())\n",
    "\n",
    "print(df.describe(include=['O']))\n",
    "\n",
    "print(df.corr())\n",
    "\n",
    "data_set=df.iloc[:,[0,3,4,5,8]]\n",
    "print(data_set.corr())\n",
    "\n",
    "sns.regplot(x=data_set[\"Temperature (C)\"],y=data_set[\"Apparent Temperature (C)\"])\n"
   ]
  },
  {
   "cell_type": "code",
   "execution_count": null,
   "metadata": {},
   "outputs": [],
   "source": [
    "#sns.regplot(x=data_set[\"Temperature (C)\"], y=data_set[\"Apparent Temperature (C)\"])\n"
   ]
  },
  {
   "cell_type": "code",
   "execution_count": null,
   "metadata": {},
   "outputs": [],
   "source": [
    "outliers=[]\n",
    "def dect_outliers(data_1):\n",
    "    limit=3\n",
    "    mean=np.mean(data_1)\n",
    "    std=np.std(data_1)\n",
    "    for y in data_1:\n",
    "        z_score=(y-mean)/std\n",
    "        if np.abs(z_score)>= limit:\n",
    "            outliers.append(y)\n",
    "    return outliers\n",
    "outlier_data=dect_outliers(data_set[\"Apparent Temperature (C)\"])\n",
    "print(outlier_data)"
   ]
  },
  {
   "cell_type": "code",
   "execution_count": null,
   "metadata": {},
   "outputs": [],
   "source": [
    "final_data_set=data_set[data_set[\"Apparent Temperature (C)\"]>0.15]\n",
    "print(final_data_set)"
   ]
  },
  {
   "cell_type": "code",
   "execution_count": null,
   "metadata": {},
   "outputs": [],
   "source": [
    "sns.regplot(x=final_data_set[\"Temperature (C)\"],y=final_data_set[\"Apparent Temperature (C)\"])"
   ]
  },
  {
   "cell_type": "code",
   "execution_count": null,
   "metadata": {},
   "outputs": [],
   "source": [
    "y=final_data_set.iloc[:,[1]]\n",
    "print(y)\n",
    "X=final_data_set.iloc[:,[2]]\n",
    "print(X)"
   ]
  },
  {
   "cell_type": "code",
   "execution_count": null,
   "metadata": {},
   "outputs": [],
   "source": [
    "X_train,X_test,y_train,y_test=train_test_split(X,y,test_size=0.20,random_state=0)\n",
    "print(X_train.shape)\n",
    "print(X_test.shape)\n",
    "print(y_train.shape)\n",
    "print(y_test.shape)"
   ]
  },
  {
   "cell_type": "code",
   "execution_count": null,
   "metadata": {},
   "outputs": [],
   "source": [
    "from sklearn.linear_model import LinearRegression\n",
    "regressor =LinearRegression()\n",
    "regressor.fit(X_train, y_train)"
   ]
  },
  {
   "cell_type": "code",
   "execution_count": null,
   "metadata": {},
   "outputs": [],
   "source": [
    "regressor.coef_\n"
   ]
  },
  {
   "cell_type": "code",
   "execution_count": null,
   "metadata": {},
   "outputs": [],
   "source": [
    "regressor.intercept_"
   ]
  },
  {
   "cell_type": "code",
   "execution_count": null,
   "metadata": {},
   "outputs": [],
   "source": [
    "y_pred = regressor.predict(X_test)\n",
    "print(y_pred)"
   ]
  },
  {
   "cell_type": "code",
   "execution_count": null,
   "metadata": {},
   "outputs": [],
   "source": [
    "regressor.score(X,y)\n"
   ]
  },
  {
   "cell_type": "code",
   "execution_count": null,
   "metadata": {},
   "outputs": [],
   "source": [
    "from sklearn import metrics\n",
    "import math\n",
    "print(math.sqrt(metrics.mean_squared_error(y_test, y_pred)))"
   ]
  },
  {
   "cell_type": "code",
   "execution_count": null,
   "metadata": {},
   "outputs": [],
   "source": [
    "import statsmodels.api as sm\n",
    "ones_1 =[1] * X.count()\n",
    "X[\"b0\"]=ones_1"
   ]
  },
  {
   "cell_type": "code",
   "execution_count": null,
   "metadata": {},
   "outputs": [],
   "source": [
    "model = sm.OLS(y_pred,X_test).fit()\n",
    "model.summary()"
   ]
  },
  {
   "cell_type": "code",
   "execution_count": null,
   "metadata": {},
   "outputs": [],
   "source": [
    "alpha=0.0001\n",
    "iterations=1000\n",
    "\n",
    "m=len(X_train)\n",
    "print(m)\n",
    "def gradient_descent():\n",
    "    y_pred=np.array(0)\n",
    "    w=b=i=0\n",
    "    db=0\n",
    "    dw=0\n",
    "    while i < iterations:\n",
    "        for j in range(m):\n",
    "            db +=((b+w*X_train[j])-y_train[j])\n",
    "            dw +=((b+w*X_train[j])-y_train[j])*X_train[j]\n",
    "        b= b-((alpha*db)/m)\n",
    "        w= w-((alpha*dw)/m)\n",
    "        i+=1\n",
    "    for i in range(len(X_test)):\n",
    "        y_pred=(b+w*X_test)\n",
    "        y_pred=float(str(y_pred)[0:3])\n",
    "    print(\"Accuracy:\",avgerror(np.asarray(y_pred)),type(y_pred))\n",
    "\n",
    "\n",
    "\n",
    "\n",
    "    "
   ]
  },
  {
   "cell_type": "code",
   "execution_count": null,
   "metadata": {},
   "outputs": [],
   "source": [
    "def avgerror(y_pred_test):\n",
    "    total_error=0\n",
    "    for i in range(0,len(y_test)):\n",
    "        total_error+=abs((y_pred_test[i] - y_test[i])/y_test[i])\n",
    "    total_error=total_error/len(y_test)\n",
    "    accuracy=1- total_error\n",
    "    return accuracy * 100"
   ]
  },
  {
   "cell_type": "code",
   "execution_count": null,
   "metadata": {},
   "outputs": [],
   "source": [
    "\n",
    "plt.scatter(X_test, y_test, color='g', label='whole data')\n",
    "plt.plot(X_test, y_pred, color='r', label='predicted value')\n",
    "plt.legend()\n",
    "plt.show()\n",
    "\n",
    "if __name__=='__main__':\n",
    "\n",
    "    gradient_descent()\n"
   ]
  },
  {
   "cell_type": "code",
   "execution_count": null,
   "metadata": {},
   "outputs": [],
   "source": []
  }
 ],
 "metadata": {
  "kernelspec": {
   "display_name": "Python 3",
   "language": "python",
   "name": "python3"
  },
  "language_info": {
   "codemirror_mode": {
    "name": "ipython",
    "version": 3
   },
   "file_extension": ".py",
   "mimetype": "text/x-python",
   "name": "python",
   "nbconvert_exporter": "python",
   "pygments_lexer": "ipython3",
   "version": "3.6.5"
  }
 },
 "nbformat": 4,
 "nbformat_minor": 2
}
